{
 "cells": [
  {
   "cell_type": "code",
   "execution_count": null,
   "metadata": {},
   "outputs": [],
   "source": [
    "from pydub import AudioSegment\n",
    "if b>1:\n",
    "    combined = AudioSegment.from_file(\"voice0.mp3\", format=\"mp3\")\n",
    "    for l in range(b):\n",
    "        sound2 = AudioSegment.from_file(\"voice\"+str(l+1)+\".mp3\", format=\"mp3\")\n",
    "        louder = combined + 6\n",
    "        combined = combined + sound2\n",
    "        file_handle = combined.export(\"output.mp3\", format=\"mp3\")\n",
    "else:\n",
    "    pass"
   ]
  },
  {
   "cell_type": "code",
   "execution_count": null,
   "metadata": {},
   "outputs": [],
   "source": [
    "from moviepy.editor import *\n",
    "files = [\"new.jpg\", 'ing1.jpg']\n",
    "clip = ImageSequenceClip(files, fps = 6) \n",
    "clip.write_videofile(\"video.mp4\", fps = 24)"
   ]
  },
  {
   "cell_type": "code",
   "execution_count": null,
   "metadata": {},
   "outputs": [],
   "source": [
    "import ffmpeg\n",
    "\n",
    "\n",
    "input_still = ffmpeg.input(\"video.mp4\")\n",
    "if b>1:\n",
    "    input_audio = ffmpeg.input(\"output.mp3\")\n",
    "if b==1:\n",
    "    input_audio = ffmpeg.input(\"voice0.mp3\")\n",
    "else:\n",
    "    pass\n",
    "\n",
    "(\n",
    "    ffmpeg\n",
    "    .concat(input_still, input_audio, v=1, a=1)\n",
    "    .output(\"finall_video.mp4\")\n",
    "    .run(overwrite_output=True)\n",
    ")\n"
   ]
  },
  {
   "cell_type": "code",
   "execution_count": null,
   "metadata": {},
   "outputs": [],
   "source": [
    "if(b==1):\n",
    "    os.remove(\"voice0.mp3\")\n",
    "if(b>1):\n",
    "    os.remove(\"output.mp3\")\n",
    "    for q in range(b):\n",
    "        os.remove(\"voice\"+str(q+1)+\"mp3\")\n",
    "else:\n",
    "    pass"
   ]
  }
 ],
 "metadata": {
  "kernelspec": {
   "display_name": "Python 3",
   "language": "python",
   "name": "python3"
  },
  "language_info": {
   "codemirror_mode": {
    "name": "ipython",
    "version": 3
   },
   "file_extension": ".py",
   "mimetype": "text/x-python",
   "name": "python",
   "nbconvert_exporter": "python",
   "pygments_lexer": "ipython3",
   "version": "3.7.3"
  }
 },
 "nbformat": 4,
 "nbformat_minor": 2
}
